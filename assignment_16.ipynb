{
 "cells": [
  {
   "cell_type": "code",
   "execution_count": 1,
   "metadata": {},
   "outputs": [
    {
     "name": "stdout",
     "output_type": "stream",
     "text": [
      "   prime numbers  fibonacci numbers\n",
      "a              2                  0\n",
      "b              3                  1\n",
      "c              5                  1\n",
      "d              7                  2\n",
      "e             11                  3\n",
      "f             13                  5\n",
      "g             17                  8\n",
      "h             19                 13\n",
      "i             23                 21\n",
      "j             29                 34\n"
     ]
    }
   ],
   "source": [
    "import pandas as pd\n",
    "import numpy as np\n",
    "\n",
    "theArray = np.array([[2, 3, 5, 7, 11, 13, 17, 19, 23, 29], [0, 1, 1, 2, 3, 5, 8, 13, 21, 34]]).T\n",
    "theFrame = pd.DataFrame(theArray,\n",
    "                   columns=['prime numbers', 'fibonacci numbers'],\n",
    "                   index=['a', 'b', 'c', 'd', 'e', 'f', 'g', 'h', 'i', 'j'])\n",
    "print(theFrame)"
   ]
  }
 ],
 "metadata": {
  "kernelspec": {
   "display_name": "Python 3 (Spyder)",
   "language": "python3",
   "name": "python3"
  },
  "language_info": {
   "codemirror_mode": {
    "name": "ipython",
    "version": 3
   },
   "file_extension": ".py",
   "mimetype": "text/x-python",
   "name": "python",
   "nbconvert_exporter": "python",
   "pygments_lexer": "ipython3",
   "version": "3.7.6"
  }
 },
 "nbformat": 4,
 "nbformat_minor": 4
}
