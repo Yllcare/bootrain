{
 "cells": [
  {
   "cell_type": "code",
   "execution_count": 1,
   "metadata": {},
   "outputs": [],
   "source": [
    "import numpy as np\n",
    "lddData = np.genfromtxt('/home/illcare/Downloads/pythonFilesCodesEtc/earthq_slced.csv',delimiter=',') # ,skip_header=1"
   ]
  },
  {
   "cell_type": "code",
   "execution_count": 2,
   "metadata": {},
   "outputs": [
    {
     "name": "stdout",
     "output_type": "stream",
     "text": [
      "mean values: [ 0.05     35.371015 31.45611  19.3365    4.225   ]\n",
      "deviation values: [ 0.21794495  7.93798484  9.21013791 18.64751251  0.80800681]\n"
     ]
    }
   ],
   "source": [
    "print('mean values:', np.mean(lddData,axis = 0))\n",
    "print('deviation values:', np.std(lddData,axis = 0))"
   ]
  },
  {
   "cell_type": "code",
   "execution_count": 3,
   "metadata": {},
   "outputs": [],
   "source": [
    "subtee = [1, 25, 25, 10, 4]\n",
    "subtData = lddData-subtee"
   ]
  },
  {
   "cell_type": "code",
   "execution_count": 4,
   "metadata": {},
   "outputs": [],
   "source": [
    "multpData = subtData * 2"
   ]
  }
 ],
 "metadata": {
  "kernelspec": {
   "display_name": "Python 3",
   "language": "python",
   "name": "python3"
  },
  "language_info": {
   "codemirror_mode": {
    "name": "ipython",
    "version": 3
   },
   "file_extension": ".py",
   "mimetype": "text/x-python",
   "name": "python",
   "nbconvert_exporter": "python",
   "pygments_lexer": "ipython3",
   "version": "3.7.6"
  }
 },
 "nbformat": 4,
 "nbformat_minor": 4
}
