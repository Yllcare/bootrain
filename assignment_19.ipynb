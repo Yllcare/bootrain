{
 "cells": [
  {
   "cell_type": "markdown",
   "metadata": {},
   "source": [
    "load data and concat"
   ]
  },
  {
   "cell_type": "code",
   "execution_count": 1,
   "metadata": {},
   "outputs": [
    {
     "name": "stdout",
     "output_type": "stream",
     "text": [
      "length of dataFrame is 1309\n"
     ]
    }
   ],
   "source": [
    "import pandas as pd\n",
    "import numpy as np\n",
    "\n",
    "tita = pd.read_csv(\"/home/illcare/Downloads/pythonFilesCodesEtc/train.csv\", index_col=0)\n",
    "test = pd.read_csv(\"/home/illcare/Downloads/pythonFilesCodesEtc/test.csv\", index_col=0)\n",
    "allData = pd.concat([tita, test])\n",
    "print('length of dataFrame is', allData.shape[0])\n",
    "# all_countries = pd.concat([countries, new_countries], ignore_index=True)"
   ]
  },
  {
   "cell_type": "markdown",
   "metadata": {},
   "source": [
    "write the data and convert it into data frame"
   ]
  },
  {
   "cell_type": "code",
   "execution_count": 2,
   "metadata": {},
   "outputs": [],
   "source": [
    "mendou = {'id':[1001,1001,1002,1002,1003,1004,1005,1006,1007,1007,1008,1008],\n",
    "          'age':[63,37,41,56,57,57,56,44,52,57,54,48],\n",
    "          'sex':['Male','Male','Female','Male','Female','Male','Female','Male','Male','Male','Male','Female'],\n",
    "          'beats':[145,130,130,120,120,140,140,120,172,150,140,150],\n",
    "          'chol':[233,250,204,236,354,192,294,263,199,168,239,264]}\n",
    "miniMend = {'id':[1001,1002,1004,1005,1007,1008],'target':[0,1,0,1,0,1]}\n",
    "\n",
    "mendouFrame = pd.DataFrame(mendou)\n",
    "# mendouFrame.set_index('id', inplace=True)\n",
    "# miniFrame = pd.DataFrame(miniMend,index='id')\n",
    "miniFrame = pd.DataFrame(miniMend)"
   ]
  },
  {
   "cell_type": "code",
   "execution_count": 3,
   "metadata": {},
   "outputs": [
    {
     "name": "stdout",
     "output_type": "stream",
     "text": [
      "length of inner merge: 10 \n",
      "length of outer merge: 12 \n",
      "length of left merge: 12 \n",
      "length of right merge: 10\n"
     ]
    }
   ],
   "source": [
    "mergIn = pd.merge(mendouFrame, miniFrame, left_on='id', right_on='id', how = \"inner\")\n",
    "mergOut = pd.merge(mendouFrame, miniFrame, left_on='id', right_on='id', how = \"outer\")\n",
    "mergLeft = pd.merge(mendouFrame, miniFrame, left_on='id', right_on='id', how = \"left\")\n",
    "mergRight = pd.merge(mendouFrame, miniFrame, left_on='id', right_on='id', how = \"right\")\n",
    "print('length of inner merge:',np.shape(mergIn)[0],'\\nlength of outer merge:',np.shape(mergOut)[0],\n",
    "      '\\nlength of left merge:',np.shape(mergLeft)[0],'\\nlength of right merge:',np.shape(mergRight)[0])"
   ]
  }
 ],
 "metadata": {
  "kernelspec": {
   "display_name": "Python 3 (Spyder)",
   "language": "python3",
   "name": "python3"
  },
  "language_info": {
   "codemirror_mode": {
    "name": "ipython",
    "version": 3
   },
   "file_extension": ".py",
   "mimetype": "text/x-python",
   "name": "python",
   "nbconvert_exporter": "python",
   "pygments_lexer": "ipython3",
   "version": "3.7.6"
  }
 },
 "nbformat": 4,
 "nbformat_minor": 4
}
