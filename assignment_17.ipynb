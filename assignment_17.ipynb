{
 "cells": [
  {
   "cell_type": "code",
   "execution_count": 1,
   "metadata": {},
   "outputs": [],
   "source": [
    "import pandas as pd\n",
    "import numpy as np"
   ]
  },
  {
   "cell_type": "code",
   "execution_count": 2,
   "metadata": {},
   "outputs": [
    {
     "name": "stdout",
     "output_type": "stream",
     "text": [
      "Survival rate of passengers under the age of 30 is 45.61 percent\n"
     ]
    }
   ],
   "source": [
    "tita = pd.read_csv(\"train.csv\", index_col=0)\n",
    "survRate30 = np.shape(tita[(tita['Survived'] == 1) & (tita['Age'] < 30)])[0] / np.shape(tita[tita['Survived'] == 1])[0]\n",
    "print('Survival rate of passengers under the age of 30 is {:.2f} percent'.format(survRate30*100))"
   ]
  },
  {
   "cell_type": "code",
   "execution_count": 3,
   "metadata": {},
   "outputs": [
    {
     "name": "stdout",
     "output_type": "stream",
     "text": [
      "Survival rate of female passengers to male passengers is 2.14\n"
     ]
    }
   ],
   "source": [
    "survRateSx = np.shape(tita[(tita['Survived'] == 1) & (tita['Sex'] == 'female')])[0] / np.shape(tita[(tita['Survived'] == 1) & (tita['Sex'] == 'male')])[0] \n",
    "print('Survival rate of female passengers to male passengers is {:.2f}'.format(survRateSx))"
   ]
  }
 ],
 "metadata": {
  "kernelspec": {
   "display_name": "Python 3 (Spyder)",
   "language": "python3",
   "name": "python3"
  },
  "language_info": {
   "codemirror_mode": {
    "name": "ipython",
    "version": 3
   },
   "file_extension": ".py",
   "mimetype": "text/x-python",
   "name": "python",
   "nbconvert_exporter": "python",
   "pygments_lexer": "ipython3",
   "version": "3.7.6"
  }
 },
 "nbformat": 4,
 "nbformat_minor": 4
}
