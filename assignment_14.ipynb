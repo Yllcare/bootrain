{
 "cells": [
  {
   "cell_type": "code",
   "execution_count": 1,
   "metadata": {},
   "outputs": [],
   "source": [
    "import numpy as np\n",
    "# import pandas as pd\n",
    "whole = np.genfromtxt('/home/illcare/Downloads/pythonFilesCodesEtc/eq/Earthquakes.csv',delimiter=',') # ,skip_header=1"
   ]
  },
  {
   "cell_type": "code",
   "execution_count": 2,
   "metadata": {},
   "outputs": [],
   "source": [
    "slc = whole[0:20,[2, 4, 5, 6, 11]] # columns 3, 5, 6, 7, 12"
   ]
  },
  {
   "cell_type": "code",
   "execution_count": 3,
   "metadata": {},
   "outputs": [
    {
     "name": "stdout",
     "output_type": "stream",
     "text": [
      "rows numbers with a value of 4.5 or higher in the last column: [ 5  7  8 11 12 15 16 17]\n"
     ]
    }
   ],
   "source": [
    "thrs=[np.where(slc[:,-1]>=4.5)]\n",
    "print('rows numbers with a value of 4.5 or higher in the last column:', thrs[0][0])"
   ]
  },
  {
   "cell_type": "code",
   "execution_count": 4,
   "metadata": {},
   "outputs": [],
   "source": [
    "slc[0,]=1"
   ]
  }
 ],
 "metadata": {
  "kernelspec": {
   "display_name": "Python 3",
   "language": "python",
   "name": "python3"
  },
  "language_info": {
   "codemirror_mode": {
    "name": "ipython",
    "version": 3
   },
   "file_extension": ".py",
   "mimetype": "text/x-python",
   "name": "python",
   "nbconvert_exporter": "python",
   "pygments_lexer": "ipython3",
   "version": "3.7.6"
  }
 },
 "nbformat": 4,
 "nbformat_minor": 4
}
