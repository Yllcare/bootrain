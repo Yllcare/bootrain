{
 "cells": [
  {
   "cell_type": "markdown",
   "metadata": {},
   "source": [
    "Trying to write assignments in Jupyter notebook for the first time"
   ]
  },
  {
   "cell_type": "code",
   "execution_count": 1,
   "metadata": {},
   "outputs": [],
   "source": [
    "import numpy as np"
   ]
  },
  {
   "cell_type": "code",
   "execution_count": 6,
   "metadata": {},
   "outputs": [],
   "source": [
    "sqrMt = [40,60,55,65,85,125,35,95,185,220]\n",
    "rooms = [2,3,3,3,4,4,2,4,5,6]\n",
    "price = [100,200,190,210,320,350,120,310,450,550]"
   ]
  },
  {
   "cell_type": "code",
   "execution_count": 3,
   "metadata": {},
   "outputs": [],
   "source": [
    "all = np.array([sqrMt,rooms,price])"
   ]
  },
  {
   "cell_type": "code",
   "execution_count": 4,
   "metadata": {},
   "outputs": [],
   "source": [
    "all = np.transpose(all)"
   ]
  },
  {
   "cell_type": "code",
   "execution_count": 5,
   "metadata": {},
   "outputs": [
    {
     "name": "stdout",
     "output_type": "stream",
     "text": [
      "\n",
      "the array has the information of 10 houses with 3 features on every line\n",
      "[[ 40   2 100]\n",
      " [ 60   3 200]\n",
      " [ 55   3 190]\n",
      " [ 65   3 210]\n",
      " [ 85   4 320]\n",
      " [125   4 350]\n",
      " [ 35   2 120]\n",
      " [ 95   4 310]\n",
      " [185   5 450]\n",
      " [220   6 550]]\n"
     ]
    }
   ],
   "source": [
    "print(\"\\nthe array has the information of\",np.shape(all)[0],\"houses with\",np.shape(all)[1],\"features on every line\")\n",
    "print(all)"
   ]
  },
  {
   "cell_type": "code",
   "execution_count": 9,
   "metadata": {},
   "outputs": [
    {
     "name": "stdin",
     "output_type": "stream",
     "text": [
      "input number of rows: 9\n",
      "input number of columns: 6\n"
     ]
    },
    {
     "name": "stdout",
     "output_type": "stream",
     "text": [
      "\n",
      "matrix of ones with zeros on where rows and columns are both even\n",
      " [[1. 1. 1. 1. 1. 1.]\n",
      " [1. 0. 1. 0. 1. 0.]\n",
      " [1. 1. 1. 1. 1. 1.]\n",
      " [1. 0. 1. 0. 1. 0.]\n",
      " [1. 1. 1. 1. 1. 1.]\n",
      " [1. 0. 1. 0. 1. 0.]\n",
      " [1. 1. 1. 1. 1. 1.]\n",
      " [1. 0. 1. 0. 1. 0.]\n",
      " [1. 1. 1. 1. 1. 1.]]\n"
     ]
    }
   ],
   "source": [
    "rows = int(input(\"input number of rows:\"))\n",
    "columns = int(input(\"input number of columns:\"))\n",
    "new = np.ones([rows,columns])\n",
    "new[1:np.shape(new)[0]:2, 1:np.shape(new)[1]:2] = 0\n",
    "print(\"\\nmatrix of ones with zeros on where rows and columns are both even\\n\",new)"
   ]
  },
  {
   "cell_type": "code",
   "execution_count": null,
   "metadata": {},
   "outputs": [],
   "source": []
  }
 ],
 "metadata": {
  "kernelspec": {
   "display_name": "Python 3 (Spyder)",
   "language": "python3",
   "name": "python3"
  },
  "language_info": {
   "codemirror_mode": {
    "name": "ipython",
    "version": 3
   },
   "file_extension": ".py",
   "mimetype": "text/x-python",
   "name": "python",
   "nbconvert_exporter": "python",
   "pygments_lexer": "ipython3",
   "version": "3.7.6"
  }
 },
 "nbformat": 4,
 "nbformat_minor": 4
}
